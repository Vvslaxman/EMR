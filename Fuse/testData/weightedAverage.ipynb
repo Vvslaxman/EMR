{
 "cells": [
  {
   "cell_type": "code",
   "execution_count": 11,
   "metadata": {},
   "outputs": [],
   "source": [
    "import numpy as np\n",
    "import tensorflow as tf\n",
    "from tensorflow.keras.preprocessing import image\n",
    "import soundfile\n",
    "import librosa\n",
    "import matplotlib.pyplot as plt"
   ]
  },
  {
   "cell_type": "code",
   "execution_count": 12,
   "metadata": {},
   "outputs": [
    {
     "name": "stderr",
     "output_type": "stream",
     "text": [
      "WARNING:absl:Compiled the loaded model, but the compiled metrics have yet to be built. `model.compile_metrics` will be empty until you train or evaluate the model.\n",
      "c:\\Users\\uday\\AppData\\Local\\Programs\\Python\\Python311\\Lib\\site-packages\\keras\\src\\layers\\convolutional\\base_conv.py:107: UserWarning: Do not pass an `input_shape`/`input_dim` argument to a layer. When using Sequential models, prefer using an `Input(shape)` object as the first layer in the model instead.\n",
      "  super().__init__(activity_regularizer=activity_regularizer, **kwargs)\n",
      "c:\\Users\\uday\\AppData\\Local\\Programs\\Python\\Python311\\Lib\\site-packages\\keras\\src\\layers\\activations\\leaky_relu.py:41: UserWarning: Argument `alpha` is deprecated. Use `negative_slope` instead.\n",
      "  warnings.warn(\n",
      "WARNING:absl:Compiled the loaded model, but the compiled metrics have yet to be built. `model.compile_metrics` will be empty until you train or evaluate the model.\n",
      "WARNING:absl:Error in loading the saved optimizer state. As a result, your model is starting with a freshly initialized optimizer.\n"
     ]
    }
   ],
   "source": [
    "# Load the models\n",
    "audio_model = tf.keras.models.load_model('C://Users//uday//OneDrive//Desktop//EMR//Fuse//Models//Emotion_Voice_Detection_Model1.h5')\n",
    "face_model = tf.keras.models.load_model('C://Users//uday//OneDrive//Desktop//EMR//Fuse//Models//face_cnn9.h5')"
   ]
  },
  {
   "cell_type": "code",
   "execution_count": 13,
   "metadata": {},
   "outputs": [],
   "source": [
    "# Emotion labels\n",
    "emotions = ['Neutral', 'Happy', 'Sad', 'Angry']\n",
    "\n",
    "# Function to get predictions from each model\n",
    "def get_emotion_probabilities(face_input, audio_input):\n",
    "    face_probs = face_model.predict(face_input)\n",
    "    audio_probs = audio_model.predict(audio_input)\n",
    "    return face_probs, audio_probs\n",
    "\n",
    "# Dynamic weight adjustment based on confidence\n",
    "def dynamic_weight_adjustment(face_probs, audio_probs):\n",
    "    face_confidence = np.max(face_probs)\n",
    "    audio_confidence = np.max(audio_probs)\n",
    "    total_confidence = face_confidence + audio_confidence\n",
    "    face_weight = face_confidence / total_confidence\n",
    "    audio_weight = audio_confidence / total_confidence\n",
    "    return face_weight, audio_weight\n",
    "\n",
    "# Weighted emotion prediction with confidence thresholding\n",
    "def weighted_emotion_prediction(face_probs, audio_probs, threshold=0.5):\n",
    "    # Adjust weights based on confidence levels\n",
    "    face_weight, audio_weight = dynamic_weight_adjustment(face_probs, audio_probs)\n",
    "    \n",
    "    # Weighted sum of probabilities\n",
    "    final_probs = face_weight * face_probs + audio_weight * audio_probs\n",
    "    \n",
    "    # Apply confidence thresholding\n",
    "    if np.max(final_probs) < threshold:\n",
    "        return \"Neutral\", final_probs  # Default to \"Neutral\" if below threshold\n",
    "    else:\n",
    "        final_emotion_index = np.argmax(final_probs)\n",
    "        return emotions[final_emotion_index], final_probs"
   ]
  },
  {
   "cell_type": "code",
   "execution_count": 14,
   "metadata": {},
   "outputs": [],
   "source": [
    "# Function to preprocess the face image\n",
    "def preprocess_image(image_path, target_size=(128, 128)):\n",
    "    img = image.load_img(image_path, target_size=target_size)\n",
    "    img_array = image.img_to_array(img)\n",
    "    img_array = np.expand_dims(img_array, axis=0)\n",
    "    img_array = img_array / 255.0  # Normalize\n",
    "    return img_array\n",
    "\n",
    "# Function to extract MFCC features from the audio file\n",
    "def extract_feature(file_name, **kwargs):\n",
    "    mfcc = kwargs.get(\"mfcc\", True)\n",
    "    with soundfile.SoundFile(file_name) as sound_file:\n",
    "        X = sound_file.read(dtype=\"float32\")\n",
    "        if X.ndim >= 2:\n",
    "            X = np.mean(X, 1)\n",
    "        sample_rate = sound_file.samplerate\n",
    "        result = np.array([])\n",
    "        if mfcc:\n",
    "            mfccs = np.mean(librosa.feature.mfcc(y=X, sr=sample_rate, n_mfcc=40).T, axis=0)\n",
    "            result = np.hstack((result, mfccs))\n",
    "    return result\n"
   ]
  },
  {
   "cell_type": "code",
   "execution_count": 15,
   "metadata": {},
   "outputs": [
    {
     "name": "stdout",
     "output_type": "stream",
     "text": [
      "\u001b[1m1/1\u001b[0m \u001b[32m━━━━━━━━━━━━━━━━━━━━\u001b[0m\u001b[37m\u001b[0m \u001b[1m0s\u001b[0m 363ms/step\n",
      "\u001b[1m1/1\u001b[0m \u001b[32m━━━━━━━━━━━━━━━━━━━━\u001b[0m\u001b[37m\u001b[0m \u001b[1m0s\u001b[0m 230ms/step\n",
      "Face Model Prediction Probabilities: [[0.581932   0.00403051 0.01029277 0.40374476]]\n",
      "Audio Model Prediction Probabilities: [[9.9872380e-01 1.2676666e-03 8.3777185e-10 8.4695639e-06]]\n"
     ]
    }
   ],
   "source": [
    "# Plotting function for output presentation\n",
    "def plot_emotion_probabilities(probs, title=\"Emotion Probabilities\"):\n",
    "    plt.bar(emotions, probs[0])\n",
    "    plt.title(title)\n",
    "    plt.xlabel(\"Emotion\")\n",
    "    plt.ylabel(\"Probability\")\n",
    "    plt.show()\n",
    "\n",
    "# Prepare the inputs\n",
    "image_path = 'C://Users//uday//OneDrive//Desktop//EMR//Fuse//testImages//angry.jpg' \n",
    "audio_path = \"C://Users//uday//OneDrive//Desktop//EMR//EMR//Data//Actor_01//03-02-05-02-01-01-01.wav\"\n",
    "\n",
    "# Preprocess the face image\n",
    "face_input = preprocess_image(image_path)\n",
    "\n",
    "# Extract MFCC features from the audio file\n",
    "mfcc_features = extract_feature(audio_path)\n",
    "audio_input = np.expand_dims(mfcc_features, axis=0)\n",
    "\n",
    "# Get emotion probabilities from each model\n",
    "face_probs, audio_probs = get_emotion_probabilities(face_input, audio_input)\n",
    "\n",
    "print(\"Face Model Prediction Probabilities:\", face_probs)\n",
    "print(\"Audio Model Prediction Probabilities:\", audio_probs)"
   ]
  },
  {
   "cell_type": "code",
   "execution_count": 16,
   "metadata": {},
   "outputs": [
    {
     "name": "stdout",
     "output_type": "stream",
     "text": [
      "Face Model Predicted Emotion: Neutral\n",
      "Audio Model Predicted Emotion: Neutral\n"
     ]
    }
   ],
   "source": [
    "# Check which emotion each model is predicting\n",
    "face_predicted_emotion = emotions[np.argmax(face_probs)]\n",
    "audio_predicted_emotion = emotions[np.argmax(audio_probs)]\n",
    "print(f\"Face Model Predicted Emotion: {face_predicted_emotion}\")\n",
    "print(f\"Audio Model Predicted Emotion: {audio_predicted_emotion}\")"
   ]
  },
  {
   "cell_type": "code",
   "execution_count": 17,
   "metadata": {},
   "outputs": [
    {
     "name": "stdout",
     "output_type": "stream",
     "text": [
      "Predicted Emotion: Neutral\n",
      "Final Probabilities: [[0.8452784  0.00228483 0.00378937 0.14864744]]\n"
     ]
    }
   ],
   "source": [
    "# Perform weighted prediction and apply confidence thresholding\n",
    "predicted_emotion, final_probs = weighted_emotion_prediction(face_probs, audio_probs)\n",
    "\n",
    "# Print the final result\n",
    "print(\"Predicted Emotion:\", predicted_emotion)\n",
    "print(\"Final Probabilities:\", final_probs)"
   ]
  },
  {
   "cell_type": "code",
   "execution_count": 18,
   "metadata": {},
   "outputs": [
    {
     "data": {
      "image/png": "[encoded data removed]",
      "text/plain": [
       "<Figure size 640x480 with 1 Axes>"
      ]
     },
     "metadata": {},
     "output_type": "display_data"
    }
   ],
   "source": [
    " # Display the final probabilities in a bar chart\n",
    "plot_emotion_probabilities(final_probs, title=\"Final Emotion Prediction Probabilities\")"
   ]
  }
 ],
 "metadata": {
  "kernelspec": {
   "display_name": "Python 3",
   "language": "python",
   "name": "python3"
  },
  "language_info": {
   "codemirror_mode": {
    "name": "ipython",
    "version": 3
   },
   "file_extension": ".py",
   "mimetype": "text/x-python",
   "name": "python",
   "nbconvert_exporter": "python",
   "pygments_lexer": "ipython3",
   "version": "3.11.1"
  }
 },
 "nbformat": 4,
 "nbformat_minor": 2
}
